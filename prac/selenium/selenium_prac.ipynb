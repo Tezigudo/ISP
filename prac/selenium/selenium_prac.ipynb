{
 "cells": [
  {
   "cell_type": "code",
   "execution_count": 12,
   "metadata": {},
   "outputs": [],
   "source": [
    "from selenium import webdriver\n",
    "\n",
    "# URL to fetch and display\n",
    "url = \"https://duckduckgo.com\"\n",
    "\n",
    "# create a browser instance. You can use Chrome or Safari instead of Firefox.\n",
    "driver = webdriver.Safari()\n",
    "driver.get(url)"
   ]
  },
  {
   "cell_type": "code",
   "execution_count": 17,
   "metadata": {},
   "outputs": [
    {
     "name": "stderr",
     "output_type": "stream",
     "text": [
      "/var/folders/1h/93wslqxj7kz5qnq_szkpw2nc0000gn/T/ipykernel_23961/3084382244.py:1: DeprecationWarning: port has been deprecated, please set it via the service class\n",
      "  browser = webdriver.Safari('/usr/bin/safaridriver')\n"
     ]
    },
    {
     "ename": "WebDriverException",
     "evalue": "Message: Service /usr/bin/safaridriver unexpectedly exited. Status code was: 1\n",
     "output_type": "error",
     "traceback": [
      "\u001b[0;31m---------------------------------------------------------------------------\u001b[0m",
      "\u001b[0;31mWebDriverException\u001b[0m                        Traceback (most recent call last)",
      "\u001b[1;32m/Users/god/Desktop/MyFolder/Programming/Y2S1/ISP/prac/selenium/selenium_prac.ipynb Cell 2\u001b[0m in \u001b[0;36m<cell line: 0>\u001b[0;34m()\u001b[0m\n\u001b[0;32m----> <a href='vscode-notebook-cell:/Users/god/Desktop/MyFolder/Programming/Y2S1/ISP/prac/selenium/selenium_prac.ipynb#W5sZmlsZQ%3D%3D?line=0'>1</a>\u001b[0m browser \u001b[39m=\u001b[39m webdriver\u001b[39m.\u001b[39mSafari(\u001b[39m'\u001b[39m\u001b[39m/usr/bin/safaridriver\u001b[39m\u001b[39m'\u001b[39m)\n\u001b[1;32m      <a href='vscode-notebook-cell:/Users/god/Desktop/MyFolder/Programming/Y2S1/ISP/prac/selenium/selenium_prac.ipynb#W5sZmlsZQ%3D%3D?line=1'>2</a>\u001b[0m browser\u001b[39m.\u001b[39mget( url )\n",
      "File \u001b[0;32m/Library/Frameworks/Python.framework/Versions/3.11/lib/python3.11/site-packages/selenium/webdriver/safari/webdriver.py:110\u001b[0m, in \u001b[0;36mWebDriver.__init__\u001b[0;34m(self, port, executable_path, reuse_service, desired_capabilities, quiet, keep_alive, service_args, options, service)\u001b[0m\n\u001b[1;32m    108\u001b[0m \u001b[39mself\u001b[39m\u001b[39m.\u001b[39mservice \u001b[39m=\u001b[39m service \u001b[39mor\u001b[39;00m Service(executable_path, port\u001b[39m=\u001b[39mport, quiet\u001b[39m=\u001b[39mquiet, service_args\u001b[39m=\u001b[39mservice_args)\n\u001b[1;32m    109\u001b[0m \u001b[39mif\u001b[39;00m \u001b[39mnot\u001b[39;00m reuse_service:\n\u001b[0;32m--> 110\u001b[0m     \u001b[39mself\u001b[39m\u001b[39m.\u001b[39mservice\u001b[39m.\u001b[39mstart()\n\u001b[1;32m    112\u001b[0m executor \u001b[39m=\u001b[39m SafariRemoteConnection(remote_server_addr\u001b[39m=\u001b[39m\u001b[39mself\u001b[39m\u001b[39m.\u001b[39mservice\u001b[39m.\u001b[39mservice_url, keep_alive\u001b[39m=\u001b[39mkeep_alive)\n\u001b[1;32m    114\u001b[0m \u001b[39msuper\u001b[39m()\u001b[39m.\u001b[39m\u001b[39m__init__\u001b[39m(command_executor\u001b[39m=\u001b[39mexecutor, options\u001b[39m=\u001b[39moptions, desired_capabilities\u001b[39m=\u001b[39mdesired_capabilities)\n",
      "File \u001b[0;32m/Library/Frameworks/Python.framework/Versions/3.11/lib/python3.11/site-packages/selenium/webdriver/common/service.py:106\u001b[0m, in \u001b[0;36mService.start\u001b[0;34m(self)\u001b[0m\n\u001b[1;32m    104\u001b[0m count \u001b[39m=\u001b[39m \u001b[39m0\u001b[39m\n\u001b[1;32m    105\u001b[0m \u001b[39mwhile\u001b[39;00m \u001b[39mTrue\u001b[39;00m:\n\u001b[0;32m--> 106\u001b[0m     \u001b[39mself\u001b[39m\u001b[39m.\u001b[39massert_process_still_running()\n\u001b[1;32m    107\u001b[0m     \u001b[39mif\u001b[39;00m \u001b[39mself\u001b[39m\u001b[39m.\u001b[39mis_connectable():\n\u001b[1;32m    108\u001b[0m         \u001b[39mbreak\u001b[39;00m\n",
      "File \u001b[0;32m/Library/Frameworks/Python.framework/Versions/3.11/lib/python3.11/site-packages/selenium/webdriver/common/service.py:119\u001b[0m, in \u001b[0;36mService.assert_process_still_running\u001b[0;34m(self)\u001b[0m\n\u001b[1;32m    117\u001b[0m return_code \u001b[39m=\u001b[39m \u001b[39mself\u001b[39m\u001b[39m.\u001b[39mprocess\u001b[39m.\u001b[39mpoll()\n\u001b[1;32m    118\u001b[0m \u001b[39mif\u001b[39;00m return_code:\n\u001b[0;32m--> 119\u001b[0m     \u001b[39mraise\u001b[39;00m WebDriverException(\u001b[39mf\u001b[39m\u001b[39m\"\u001b[39m\u001b[39mService \u001b[39m\u001b[39m{\u001b[39;00m\u001b[39mself\u001b[39m\u001b[39m.\u001b[39mpath\u001b[39m}\u001b[39;00m\u001b[39m unexpectedly exited. Status code was: \u001b[39m\u001b[39m{\u001b[39;00mreturn_code\u001b[39m}\u001b[39;00m\u001b[39m\"\u001b[39m)\n",
      "\u001b[0;31mWebDriverException\u001b[0m: Message: Service /usr/bin/safaridriver unexpectedly exited. Status code was: 1\n"
     ]
    }
   ],
   "source": [
    "browser = webdriver.Safari('/usr/bin/safaridriver')\n",
    "browser.get( url )"
   ]
  },
  {
   "cell_type": "code",
   "execution_count": 3,
   "metadata": {},
   "outputs": [
    {
     "ename": "NameError",
     "evalue": "name 'browser' is not defined",
     "output_type": "error",
     "traceback": [
      "\u001b[0;31m---------------------------------------------------------------------------\u001b[0m",
      "\u001b[0;31mNameError\u001b[0m                                 Traceback (most recent call last)",
      "\u001b[1;32m/Users/god/Desktop/MyFolder/Programming/Y2S1/ISP/prac/selenium/selenium_prac.ipynb Cell 2\u001b[0m in \u001b[0;36m<cell line: 0>\u001b[0;34m()\u001b[0m\n\u001b[1;32m      <a href='vscode-notebook-cell:/Users/god/Desktop/MyFolder/Programming/Y2S1/ISP/prac/selenium/selenium_prac.ipynb#W1sZmlsZQ%3D%3D?line=0'>1</a>\u001b[0m field_id \u001b[39m=\u001b[39m \u001b[39m'\u001b[39m\u001b[39msearch_form_input_homepage\u001b[39m\u001b[39m'\u001b[39m\n\u001b[0;32m----> <a href='vscode-notebook-cell:/Users/god/Desktop/MyFolder/Programming/Y2S1/ISP/prac/selenium/selenium_prac.ipynb#W1sZmlsZQ%3D%3D?line=1'>2</a>\u001b[0m input_field \u001b[39m=\u001b[39m browser\u001b[39m.\u001b[39mfind_element_by_id(field_id)\n\u001b[1;32m      <a href='vscode-notebook-cell:/Users/god/Desktop/MyFolder/Programming/Y2S1/ISP/prac/selenium/selenium_prac.ipynb#W1sZmlsZQ%3D%3D?line=2'>3</a>\u001b[0m \u001b[39m# did it work?\u001b[39;00m\n\u001b[1;32m      <a href='vscode-notebook-cell:/Users/god/Desktop/MyFolder/Programming/Y2S1/ISP/prac/selenium/selenium_prac.ipynb#W1sZmlsZQ%3D%3D?line=3'>4</a>\u001b[0m \u001b[39massert\u001b[39;00m input_field \u001b[39m!=\u001b[39m \u001b[39mNone\u001b[39;00m\n",
      "\u001b[0;31mNameError\u001b[0m: name 'browser' is not defined"
     ]
    }
   ],
   "source": [
    "field_id = 'search_form_input_homepage'\n",
    "input_field = browser.find_element_by_id(field_id)\n",
    "# did it work?\n",
    "assert input_field != None"
   ]
  },
  {
   "cell_type": "code",
   "execution_count": null,
   "metadata": {},
   "outputs": [],
   "source": []
  }
 ],
 "metadata": {
  "kernelspec": {
   "display_name": "Python 3",
   "language": "python",
   "name": "python3"
  },
  "language_info": {
   "codemirror_mode": {
    "name": "ipython",
    "version": 3
   },
   "file_extension": ".py",
   "mimetype": "text/x-python",
   "name": "python",
   "nbconvert_exporter": "python",
   "pygments_lexer": "ipython3",
   "version": "3.11.0"
  },
  "orig_nbformat": 4,
  "vscode": {
   "interpreter": {
    "hash": "aee8b7b246df8f9039afb4144a1f6fd8d2ca17a180786b69acc140d282b71a49"
   }
  }
 },
 "nbformat": 4,
 "nbformat_minor": 2
}
